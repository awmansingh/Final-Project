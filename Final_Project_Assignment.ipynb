{
 "cells": [
  {
   "cell_type": "markdown",
   "id": "2ca892b1",
   "metadata": {},
   "source": [
    "# Final Project Related Assignment\n"
   ]
  },
  {
   "cell_type": "markdown",
   "id": "9e913f6d",
   "metadata": {},
   "source": [
    "## Introduction\n"
   ]
  },
  {
   "cell_type": "code",
   "execution_count": 1,
   "id": "ddbfc178",
   "metadata": {},
   "outputs": [],
   "source": [
    "# Description of data, link to sources of data, motivation for looking at the data,\n",
    "# and question(s) you are seeking to address"
   ]
  },
  {
   "cell_type": "markdown",
   "id": "d42b413b",
   "metadata": {},
   "source": [
    "## Exploring the Data\n",
    "\n"
   ]
  },
  {
   "cell_type": "code",
   "execution_count": null,
   "id": "34bb6fbd",
   "metadata": {},
   "outputs": [],
   "source": [
    "# This section does not need to be polished yet, but it should be a good foundation\n",
    "# This can include summary information about the data, summary statistics where appropriate, an identification of where there may be missing/incorrect/outlier data, and data preprocessing\n",
    "# It should include at least 4 exploratory data visualizations"
   ]
  },
  {
   "cell_type": "markdown",
   "id": "bab31aab",
   "metadata": {},
   "source": [
    "## Data Analysis\n",
    "\n"
   ]
  },
  {
   "cell_type": "code",
   "execution_count": null,
   "id": "b1da568e",
   "metadata": {},
   "outputs": [],
   "source": [
    "# This section also does not need to be polished yet, but it should be a good foundation\n",
    "# This should include code for data analysis directly relevant to your question(s) of interest\n",
    "# Include an additional 4 data visualizations that are directly relevant to your topic \n",
    "    # Or describe 4 data visualizations that you want to make"
   ]
  }
 ],
 "metadata": {
  "kernelspec": {
   "display_name": "Python 3 (ipykernel)",
   "language": "python",
   "name": "python3"
  },
  "language_info": {
   "codemirror_mode": {
    "name": "ipython",
    "version": 3
   },
   "file_extension": ".py",
   "mimetype": "text/x-python",
   "name": "python",
   "nbconvert_exporter": "python",
   "pygments_lexer": "ipython3",
   "version": "3.10.11"
  }
 },
 "nbformat": 4,
 "nbformat_minor": 5
}
